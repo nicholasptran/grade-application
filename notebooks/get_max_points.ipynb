{
 "cells": [
  {
   "cell_type": "code",
   "execution_count": 241,
   "metadata": {},
   "outputs": [],
   "source": [
    "import sys\n",
    "import pandas as pd\n",
    "from sqlalchemy import text, select, insert, table, column, MetaData\n",
    "from sqlalchemy.orm import Session\n",
    "import datetime\n",
    "\n",
    "sys.path.insert(1, '../')\n",
    "\n",
    "import notebooks.notebook_local_envs\n",
    "from app.database.connect_to_db import engine, conn\n",
    "import app.log_stuff\n",
    "import logging\n",
    "import os\n",
    "user_name = os.getlogin()"
   ]
  },
  {
   "cell_type": "code",
   "execution_count": 205,
   "metadata": {},
   "outputs": [
    {
     "data": {
      "text/plain": [
       "500"
      ]
     },
     "execution_count": 205,
     "metadata": {},
     "output_type": "execute_result"
    }
   ],
   "source": [
    "user_date = datetime.datetime.now()\n",
    "\n",
    "def get_max_points():\n",
    "    '''gets max possible points based on the day it is'''\n",
    "\n",
    "    query = text(\"select top 1 * from thresholds where date <= :x order by date desc\")\n",
    "    with engine.connect() as conn:\n",
    "        logging.debug(\"Executing max points query\")\n",
    "        max_points = conn.execute(query, {'x': user_date})\n",
    "        max_points = pd.DataFrame(max_points)\n",
    "\n",
    "    max_points = max_points.iloc[0,2]\n",
    "    return max_points\n",
    "\n",
    "get_max_points()"
   ]
  },
  {
   "cell_type": "code",
   "execution_count": 263,
   "metadata": {},
   "outputs": [],
   "source": [
    "def get_max_grade(input_points, max_possible_points):\n",
    "    '''take user input points and max points to lookup id for grade and return the grade'''\n",
    "    grade_percent = input_points / max_possible_points\n",
    "\n",
    "    query = text(\"select top 1 * from grade_scale where grade_percent <= :x\")\n",
    "\n",
    "    with engine.connect() as conn:\n",
    "        logging.debug(\"Executing grade query\")\n",
    "        grade_scale = conn.execute(query, {'x': grade_percent})\n",
    "        grade_scale = pd.DataFrame(grade_scale)\n",
    "\n",
    "    # insert into db\n",
    "    grade_audit = table(\"grade_audit\",\n",
    "                        column(\"username\"),\n",
    "                        column(\"date\"),\n",
    "                        column(\"grade_scale_id\"))\n",
    "\n",
    "    # assign index locations to variables, if empty query then id = 12 as fail\n",
    "    try:\n",
    "        letter_grade = grade_scale.iloc[0,1]\n",
    "        gpa = grade_scale.iloc[0,3]\n",
    "        grade_scale_id = grade_scale.iloc[0,0]\n",
    "    except IndexError:\n",
    "        grade_scale_id = 12\n",
    "        return \"You've failed :(\"\n",
    "    finally:\n",
    "        insert_query = (\n",
    "    insert(grade_audit).\n",
    "    values(username=user_name, date=text('getdate()'), grade_scale_id = int(grade_scale_id))\n",
    "    )\n",
    "        with engine.connect() as conn:\n",
    "            conn.execute(insert_query)\n",
    "            conn.commit()\n",
    "            logging.info(\"Created new record\")\n",
    "\n",
    "    return_string = f'\\n{input_points} points out of {max_possible_points} possible is a {letter_grade} or a {gpa}.'\n",
    "\n",
    "    return return_string"
   ]
  },
  {
   "cell_type": "code",
   "execution_count": 264,
   "metadata": {},
   "outputs": [
    {
     "data": {
      "text/plain": [
       "\"You've failed :(\""
      ]
     },
     "execution_count": 264,
     "metadata": {},
     "output_type": "execute_result"
    }
   ],
   "source": [
    "get_max_grade(100,500)"
   ]
  },
  {
   "cell_type": "code",
   "execution_count": 242,
   "metadata": {},
   "outputs": [],
   "source": [
    "grade_percent = .87\n",
    "\n",
    "query = text(\"select top 1 * from grade_scale where grade_percent <= :x\")\n",
    "with engine.connect() as conn:\n",
    "    logging.debug(\"Executing grade query\")\n",
    "    grade_scale = conn.execute(query, {'x': grade_percent})\n",
    "    grade_scale = pd.DataFrame(grade_scale)\n",
    "\n",
    "letter_grade = grade_scale.iloc[0,1]\n",
    "gpa = grade_scale.iloc[0,3]\n",
    "grade_scale_id = grade_scale.iloc[0,0]"
   ]
  },
  {
   "cell_type": "code",
   "execution_count": 243,
   "metadata": {},
   "outputs": [
    {
     "data": {
      "text/plain": [
       "2"
      ]
     },
     "execution_count": 243,
     "metadata": {},
     "output_type": "execute_result"
    }
   ],
   "source": [
    "grade_scale_id + 1"
   ]
  },
  {
   "cell_type": "code",
   "execution_count": 233,
   "metadata": {},
   "outputs": [],
   "source": [
    "grade_scale_id = 5\n",
    "\n",
    "\n",
    "\n",
    "grade_audit = table(\"grade_audit\",\n",
    "                    column(\"username\"),\n",
    "                    column(\"date\"),\n",
    "                    column(\"grade_scale_id\"))\n",
    "\n",
    "insert_query = (\n",
    "    insert(grade_audit).\n",
    "    values(username=user_name, date=text('getdate()'), grade_scale_id=grade_scale_id)\n",
    ")\n",
    "\n",
    "with engine.connect() as conn:\n",
    "    conn.execute(insert_query)\n",
    "    conn.commit()\n"
   ]
  }
 ],
 "metadata": {
  "kernelspec": {
   "display_name": "Python 3",
   "language": "python",
   "name": "python3"
  },
  "language_info": {
   "codemirror_mode": {
    "name": "ipython",
    "version": 3
   },
   "file_extension": ".py",
   "mimetype": "text/x-python",
   "name": "python",
   "nbconvert_exporter": "python",
   "pygments_lexer": "ipython3",
   "version": "3.8.10"
  },
  "orig_nbformat": 4,
  "vscode": {
   "interpreter": {
    "hash": "31f2aee4e71d21fbe5cf8b01ff0e069b9275f58929596ceb00d14d90e3e16cd6"
   }
  }
 },
 "nbformat": 4,
 "nbformat_minor": 2
}
