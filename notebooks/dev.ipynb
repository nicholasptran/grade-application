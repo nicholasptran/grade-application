{
 "cells": [
  {
   "cell_type": "code",
   "execution_count": 9,
   "metadata": {},
   "outputs": [
    {
     "name": "stdout",
     "output_type": "stream",
     "text": [
      "1\n"
     ]
    }
   ],
   "source": [
    "while True:\n",
    "    try:\n",
    "        x = int(input(\"enter: \"))\n",
    "    except:\n",
    "        print('int only')\n",
    "        continue\n",
    "    else:\n",
    "        print(x)\n",
    "        break"
   ]
  },
  {
   "cell_type": "code",
   "execution_count": 7,
   "metadata": {},
   "outputs": [
    {
     "name": "stdout",
     "output_type": "stream",
     "text": [
      "broke\n",
      "2\n"
     ]
    }
   ],
   "source": [
    "def test(x):\n",
    "    if x < 2:\n",
    "        raise Exception(\"test\")\n",
    "    return x\n",
    "\n",
    "\n",
    "\n",
    "while True:\n",
    "    try:\n",
    "        z = int(input(\"test: \"))\n",
    "        test(z)\n",
    "    except:\n",
    "        print('broke')\n",
    "        continue\n",
    "    else:\n",
    "        print(z)\n",
    "        break"
   ]
  },
  {
   "cell_type": "code",
   "execution_count": 5,
   "metadata": {},
   "outputs": [
    {
     "ename": "Exception",
     "evalue": "test",
     "output_type": "error",
     "traceback": [
      "\u001b[0;31m---------------------------------------------------------------------------\u001b[0m",
      "\u001b[0;31mException\u001b[0m                                 Traceback (most recent call last)",
      "\u001b[1;32m/home/nicholas/Documents/github/grade-application/notebooks/dev.ipynb Cell 3\u001b[0m in \u001b[0;36m<module>\u001b[0;34m\u001b[0m\n\u001b[1;32m      <a href='vscode-notebook-cell:/home/nicholas/Documents/github/grade-application/notebooks/dev.ipynb#W2sZmlsZQ%3D%3D?line=1'>2</a>\u001b[0m     \u001b[39mraise\u001b[39;00m ex\n\u001b[1;32m      <a href='vscode-notebook-cell:/home/nicholas/Documents/github/grade-application/notebooks/dev.ipynb#W2sZmlsZQ%3D%3D?line=3'>4</a>\u001b[0m validate \u001b[39m=\u001b[39m \u001b[39mlambda\u001b[39;00m x : x  \u001b[39mif\u001b[39;00m x \u001b[39m==\u001b[39m \u001b[39m3\u001b[39m \u001b[39melse\u001b[39;00m raise_func(\u001b[39mException\u001b[39;00m(\u001b[39m\"\u001b[39m\u001b[39mtest\u001b[39m\u001b[39m\"\u001b[39m))\n\u001b[0;32m----> <a href='vscode-notebook-cell:/home/nicholas/Documents/github/grade-application/notebooks/dev.ipynb#W2sZmlsZQ%3D%3D?line=5'>6</a>\u001b[0m z \u001b[39m=\u001b[39m validate(\u001b[39m2\u001b[39;49m)\n\u001b[1;32m      <a href='vscode-notebook-cell:/home/nicholas/Documents/github/grade-application/notebooks/dev.ipynb#W2sZmlsZQ%3D%3D?line=7'>8</a>\u001b[0m \u001b[39mprint\u001b[39m(z)\n",
      "\u001b[1;32m/home/nicholas/Documents/github/grade-application/notebooks/dev.ipynb Cell 3\u001b[0m in \u001b[0;36m<lambda>\u001b[0;34m(x)\u001b[0m\n\u001b[1;32m      <a href='vscode-notebook-cell:/home/nicholas/Documents/github/grade-application/notebooks/dev.ipynb#W2sZmlsZQ%3D%3D?line=0'>1</a>\u001b[0m \u001b[39mdef\u001b[39;00m \u001b[39mraise_func\u001b[39m(ex):\n\u001b[1;32m      <a href='vscode-notebook-cell:/home/nicholas/Documents/github/grade-application/notebooks/dev.ipynb#W2sZmlsZQ%3D%3D?line=1'>2</a>\u001b[0m     \u001b[39mraise\u001b[39;00m ex\n\u001b[0;32m----> <a href='vscode-notebook-cell:/home/nicholas/Documents/github/grade-application/notebooks/dev.ipynb#W2sZmlsZQ%3D%3D?line=3'>4</a>\u001b[0m validate \u001b[39m=\u001b[39m \u001b[39mlambda\u001b[39;00m x : x  \u001b[39mif\u001b[39;00m x \u001b[39m==\u001b[39m \u001b[39m3\u001b[39m \u001b[39melse\u001b[39;00m raise_func(\u001b[39mException\u001b[39;49;00m(\u001b[39m\"\u001b[39;49m\u001b[39mtest\u001b[39;49m\u001b[39m\"\u001b[39;49m))\n\u001b[1;32m      <a href='vscode-notebook-cell:/home/nicholas/Documents/github/grade-application/notebooks/dev.ipynb#W2sZmlsZQ%3D%3D?line=5'>6</a>\u001b[0m z \u001b[39m=\u001b[39m validate(\u001b[39m2\u001b[39m)\n\u001b[1;32m      <a href='vscode-notebook-cell:/home/nicholas/Documents/github/grade-application/notebooks/dev.ipynb#W2sZmlsZQ%3D%3D?line=7'>8</a>\u001b[0m \u001b[39mprint\u001b[39m(z)\n",
      "\u001b[1;32m/home/nicholas/Documents/github/grade-application/notebooks/dev.ipynb Cell 3\u001b[0m in \u001b[0;36mraise_func\u001b[0;34m(ex)\u001b[0m\n\u001b[1;32m      <a href='vscode-notebook-cell:/home/nicholas/Documents/github/grade-application/notebooks/dev.ipynb#W2sZmlsZQ%3D%3D?line=0'>1</a>\u001b[0m \u001b[39mdef\u001b[39;00m \u001b[39mraise_func\u001b[39m(ex):\n\u001b[0;32m----> <a href='vscode-notebook-cell:/home/nicholas/Documents/github/grade-application/notebooks/dev.ipynb#W2sZmlsZQ%3D%3D?line=1'>2</a>\u001b[0m     \u001b[39mraise\u001b[39;00m ex\n",
      "\u001b[0;31mException\u001b[0m: test"
     ]
    }
   ],
   "source": [
    "\n",
    "def raise_func(ex):\n",
    "    raise ex\n",
    "\n",
    "validate = lambda x : x  if x == 3 else raise_func(Exception(\"test\"))\n",
    "\n",
    "z = validate(2)\n",
    "\n",
    "print(z)"
   ]
  },
  {
   "cell_type": "code",
   "execution_count": 4,
   "metadata": {},
   "outputs": [
    {
     "name": "stdout",
     "output_type": "stream",
     "text": [
      "\u001b[H\u001b[2J"
     ]
    }
   ],
   "source": [
    "import platform\n",
    "import os\n",
    "\n",
    "\n",
    "user_platform = platform.system()\n",
    "\n",
    "def clear_console(platform):\n",
    "    if platform == 'Windows':\n",
    "        os.system('cls')\n",
    "    else:\n",
    "        os.system('clear')\n",
    "        \n",
    "clear_console(user_platform)"
   ]
  }
 ],
 "metadata": {
  "kernelspec": {
   "display_name": "Python 3",
   "language": "python",
   "name": "python3"
  },
  "language_info": {
   "codemirror_mode": {
    "name": "ipython",
    "version": 3
   },
   "file_extension": ".py",
   "mimetype": "text/x-python",
   "name": "python",
   "nbconvert_exporter": "python",
   "pygments_lexer": "ipython3",
   "version": "3.8.10 (default, Nov 14 2022, 12:59:47) \n[GCC 9.4.0]"
  },
  "orig_nbformat": 4,
  "vscode": {
   "interpreter": {
    "hash": "31f2aee4e71d21fbe5cf8b01ff0e069b9275f58929596ceb00d14d90e3e16cd6"
   }
  }
 },
 "nbformat": 4,
 "nbformat_minor": 2
}
